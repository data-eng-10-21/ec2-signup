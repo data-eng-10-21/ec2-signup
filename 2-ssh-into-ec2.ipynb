{
 "cells": [
  {
   "cell_type": "markdown",
   "metadata": {},
   "source": [
    "# Signing up for an EC2"
   ]
  },
  {
   "cell_type": "markdown",
   "metadata": {},
   "source": [
    "### Introduction "
   ]
  },
  {
   "cell_type": "markdown",
   "metadata": {},
   "source": [
    "In the last section, we walked through part of the process of setting up our EC2 machine.  So far we selected our operating system, and added storage.  In this section, we'll learn more about configuring our security group.\n",
    "\n",
    "By configuring our security group, we mean establishing how our machine will communicate to the outside world.  Our machine exists somewhere in the cloud, and if we preferred, we could keep it locked down and secure by isolating it from the rest of the Internet.  But it's not much use that way.  So Amazon asks us to specify exactly how we want to expose our machine to the outside world."
   ]
  },
  {
   "cell_type": "markdown",
   "metadata": {},
   "source": [
    "### SSH "
   ]
  },
  {
   "cell_type": "markdown",
   "metadata": {},
   "source": [
    "If you look at the Configure Security Group window, you should see it already setup with some good default options.\n",
    "\n",
    "We see that **assign a security group** is placed on the *Create a **new** security group*, which is what we would like.  And that it is prefilled with a security group name, and description.  We'll talk more about security groups in a later section, but the basic idea is that the configurations we provide here can be used with other EC2 machines.  So here, we specify a  general set of rules to apply to multiple machines."
   ]
  },
  {
   "cell_type": "markdown",
   "metadata": {},
   "source": [
    "<img src=\"ssh-access.png\" width=\"160%\">"
   ]
  },
  {
   "cell_type": "markdown",
   "metadata": {},
   "source": [
    "Below `description`, we see the various rules, and lucky for us, the prefilled rule works well.\n",
    "\n",
    "Still, this is a nice time to understand what these rules mean."
   ]
  },
  {
   "cell_type": "markdown",
   "metadata": {},
   "source": [
    "1. SSH "
   ]
  },
  {
   "cell_type": "markdown",
   "metadata": {},
   "source": [
    "**SSH** uses public-key cryptography to authenticate our local machine connection to a remote computer.  \n",
    "\n",
    "With SSH, we'll be able to access the EC2 machine through our local terminal, just like we access our own local computer through our terminal.  This is powerful - remember that we can do almost anything through our terminal.  And to authenticate this access, SSH uses a public key (think, a long password).  "
   ]
  },
  {
   "cell_type": "markdown",
   "metadata": {},
   "source": [
    "Now we'll generate this public key in the next section, but for now let's take a look at the other specifications.  **Port range** indicates the entrypoint for our machine.  Now, we've already seen ports when we've worked with websites or postgres.  In flask, for example, we access our application through port 5000.  That is the entrypoint for the server running Jupyter notebook.  For SSH, we enter our machine through port 22."
   ]
  },
  {
   "cell_type": "markdown",
   "metadata": {},
   "source": [
    "2. IP Addresses"
   ]
  },
  {
   "cell_type": "markdown",
   "metadata": {},
   "source": [
    "The last item on the address is the *source*.  This is where we'll specify the *ip address* of our local computer, that is the ip address of the computer that will be accessing the EC2 machine."
   ]
  },
  {
   "cell_type": "markdown",
   "metadata": {},
   "source": [
    "> What's an IP address?"
   ]
  },
  {
   "cell_type": "markdown",
   "metadata": {},
   "source": [
    "Remember that the Internet works by our local computer requesting information from different computer somewhere on the planet, by specifying a url like `www.espn.com`.  But for `espn.com` to know where to send the information back, it needs to know where the requesting computer is located.  This is the ip address.\n",
    "\n",
    "An ip address looks something like the following:\n",
    "\n",
    "`172.16.254.1`\n",
    "\n",
    "The first numbers towards the left specify the network we are on and the last numbers on the right specify the identifier for our particular connection to the network, which is unique to our computer.\n",
    "\n",
    "We can find out our particular our ip address, the same way we find out everything else.  By asking Google."
   ]
  },
  {
   "cell_type": "markdown",
   "metadata": {},
   "source": [
    "* Type into Google, \"What's my ip address?\""
   ]
  },
  {
   "cell_type": "markdown",
   "metadata": {},
   "source": [
    "### Back to AWS"
   ]
  },
  {
   "cell_type": "markdown",
   "metadata": {},
   "source": [
    "So why is AWS asking for this information?  Well it's because we may not just want any person with a computer to be able to connect to our EC2 machine.  And currently **we are allowing** any `ip address` to connect to the EC2 machine. \n",
    "\n",
    "We can see this as the default source is `0.0.0.0/0`.  Anytime we see that sequence, it means that **any** ip address can have access.\n",
    "\n",
    "So if we want, we can replace this with our own `ip address`."
   ]
  },
  {
   "cell_type": "markdown",
   "metadata": {},
   "source": [
    "Now, for us, because we will likely want to access our machine regardless of the Internet we are connected to, and because we won't have anything too valuable on our ec2 machine, we can just leave the default source.  "
   ]
  },
  {
   "cell_type": "markdown",
   "metadata": {},
   "source": [
    "So we'll keep the source at `0.0.0.0\\0`."
   ]
  },
  {
   "cell_type": "markdown",
   "metadata": {},
   "source": [
    "<img src=\"ssh-access.png\" width=\"160%\">"
   ]
  },
  {
   "cell_type": "markdown",
   "metadata": {},
   "source": [
    "Now click review and launch."
   ]
  },
  {
   "cell_type": "markdown",
   "metadata": {},
   "source": [
    "### Summary"
   ]
  },
  {
   "cell_type": "markdown",
   "metadata": {},
   "source": [
    "In this lesson, we learned about configuring the security group.  By configuring the security group, we specify how we allow access to the EC2 instance, and the ip addresses of the machines that can have access.  We specifically saw how to grant SSH access, which authenticates the use of a remote machine by using a key.  Then we also learned about how to specify the different options for specifying which ip addresses can access the machine with the source option.\n",
    "\n",
    "In the next section, we'll learn more about connecting to our EC2 instance with a key."
   ]
  },
  {
   "cell_type": "markdown",
   "metadata": {},
   "source": [
    "### Resources"
   ]
  },
  {
   "cell_type": "markdown",
   "metadata": {},
   "source": [
    "[Jupyter notebooks on AWS blog](https://medium.com/@alexjsanchez/python-3-notebooks-on-aws-ec2-in-15-mostly-easy-steps-2ec5e662c6c6)"
   ]
  }
 ],
 "metadata": {
  "kernelspec": {
   "display_name": "Python 3",
   "language": "python",
   "name": "python3"
  },
  "language_info": {
   "codemirror_mode": {
    "name": "ipython",
    "version": 3
   },
   "file_extension": ".py",
   "mimetype": "text/x-python",
   "name": "python",
   "nbconvert_exporter": "python",
   "pygments_lexer": "ipython3",
   "version": "3.8.3"
  }
 },
 "nbformat": 4,
 "nbformat_minor": 4
}
