{
 "cells": [
  {
   "cell_type": "markdown",
   "metadata": {},
   "source": [
    "# Signing up for an EC2"
   ]
  },
  {
   "cell_type": "markdown",
   "metadata": {},
   "source": [
    "### Introduction "
   ]
  },
  {
   "cell_type": "markdown",
   "metadata": {},
   "source": [
    "Now that we have signed up for the AWS, it's time to use AWS's cloud computing services.  This will allow us to rent one of Amazon's computers that exists somewhere on this planet, and we'll connect to it through our computer.  Let's get started."
   ]
  },
  {
   "cell_type": "markdown",
   "metadata": {},
   "source": [
    "### An EC2 computer"
   ]
  },
  {
   "cell_type": "markdown",
   "metadata": {},
   "source": [
    "Amazon allows us to set up an EC2 machine.  EC2 is simply a computer.  There is not a monitor or a keyboard directly connected to this computer, but we will be able to work with this computer.  And we'll connect to this computer the same way that we connect with computers when we use an API: by sending some commands through the Internet.\n",
    "\n",
    "And just like a normal computer, we'll use our EC2 machine to store data and to run processes -- for example, Python code."
   ]
  },
  {
   "cell_type": "markdown",
   "metadata": {},
   "source": [
    "### Setting it up"
   ]
  },
  {
   "cell_type": "markdown",
   "metadata": {},
   "source": [
    "From the AWS console, look under the section that says **build a solution** and then click on it to **launch a virtual machine**.\n",
    "\n",
    "> You may have to scroll down to see this, or just press `ctl+f` and search for \"Launch a virtual machine\"."
   ]
  },
  {
   "cell_type": "markdown",
   "metadata": {},
   "source": [
    "![](./launch-ec2.png)"
   ]
  },
  {
   "cell_type": "markdown",
   "metadata": {},
   "source": [
    "Now it's time to setup our machine.  This may sound complicated, but the first couple of steps are just like shopping for a computer at Best Buy.\n",
    "\n",
    "**0. Give the machine a name**\n",
    "\n",
    "This is just a label, so we can identify it.\n",
    "\n",
    "<img src=\"./sample-machine.png\" width=\"60%\">\n",
    "\n",
    "\n",
    "**1. Choose the Software with AMI**\n",
    "\n",
    "Next we want to choose the software that will be on the computer.  When we go to an electronics store, we first decide if we want to purchase either a Windows or Mac computer.  Here, we do the same thing.  The Amazon Machine image is a template of software the Amazon will install on our machine.  The version that is already selected for us is fine -- it uses linux and is free.\n",
    "\n",
    "> * The **Amazon Machine Image** is a template of software Amazon will install the machine."
   ]
  },
  {
   "cell_type": "markdown",
   "metadata": {},
   "source": [
    "![](./free-tier.png)"
   ]
  },
  {
   "cell_type": "markdown",
   "metadata": {},
   "source": [
    "Let's scroll down."
   ]
  },
  {
   "cell_type": "markdown",
   "metadata": {},
   "source": [
    "**2. Choose the hardware with Instance Type**"
   ]
  },
  {
   "cell_type": "markdown",
   "metadata": {},
   "source": [
    "We'll be taken to the next screen, which says, choose an Instance Type."
   ]
  },
  {
   "cell_type": "markdown",
   "metadata": {},
   "source": [
    "<img src=\"./instance-type-1.png\">"
   ]
  },
  {
   "cell_type": "markdown",
   "metadata": {},
   "source": [
    "The already selected `t2.micro`, is Free Tier Eligible and works fine. Notice right above the table it says *Currently Selected* and then describes the hardware specifications of the CPUs, and memory. "
   ]
  },
  {
   "cell_type": "markdown",
   "metadata": {},
   "source": [
    "##### 3. Key pair"
   ]
  },
  {
   "cell_type": "markdown",
   "metadata": {},
   "source": [
    "Now the key pair section is how we'll be able to log into this specific ec-2 machine from our computer.  Click on create new key pair."
   ]
  },
  {
   "cell_type": "markdown",
   "metadata": {},
   "source": [
    "<img src=\"./key-pair.png\">"
   ]
  },
  {
   "cell_type": "markdown",
   "metadata": {},
   "source": [
    "Then from there you can name the keypair, and then keep the `.pem` format as the private key format."
   ]
  },
  {
   "cell_type": "markdown",
   "metadata": {},
   "source": [
    "<img src=\"./create-pair.png\" width=\"60%\">"
   ]
  },
  {
   "cell_type": "markdown",
   "metadata": {},
   "source": [
    "Click `create key pair`, and then you should see the .pem file downloaded onto your personal computer.  You'll use this file later on."
   ]
  },
  {
   "cell_type": "markdown",
   "metadata": {},
   "source": [
    "#### 4. Security Group "
   ]
  },
  {
   "cell_type": "markdown",
   "metadata": {},
   "source": [
    "Next up is the security group section.  All of the defaults here are fine."
   ]
  },
  {
   "cell_type": "markdown",
   "metadata": {},
   "source": [
    "<img src=\"./security-group.png\" width=\"70%\">"
   ]
  },
  {
   "cell_type": "markdown",
   "metadata": {},
   "source": [
    "We'll talk about a security group more extensively in a later lesson.  But for now let's move onto the configuration storage."
   ]
  },
  {
   "cell_type": "markdown",
   "metadata": {},
   "source": [
    "**3. Configuration Storage**"
   ]
  },
  {
   "cell_type": "markdown",
   "metadata": {},
   "source": [
    "Under **Configure Storage**, we can set the amount hard drive storage we want on our machine.  We recieve as much as 30 gigabytes of free storage, so change the **size(GiB)** to 30."
   ]
  },
  {
   "cell_type": "markdown",
   "metadata": {},
   "source": [
    "<img src=\"./storage-config.png\" width=\"70%\">"
   ]
  },
  {
   "cell_type": "markdown",
   "metadata": {},
   "source": [
    "Ok, we've moved through all of the necessary sections.  Let's take a look at the summary panel to the right, and then click on the yellow launch instance button."
   ]
  },
  {
   "cell_type": "markdown",
   "metadata": {},
   "source": [
    "<img src=\"./launch-instance.png\" width=\"60%\">"
   ]
  },
  {
   "cell_type": "markdown",
   "metadata": {},
   "source": [
    "If you go back to the EC2 dashboard, and refresh, you can see that one instance is now running."
   ]
  },
  {
   "cell_type": "markdown",
   "metadata": {},
   "source": [
    "<img src=\"./instances.png\" width=\"80%\">"
   ]
  },
  {
   "cell_type": "markdown",
   "metadata": {},
   "source": [
    "### Summary"
   ]
  },
  {
   "cell_type": "markdown",
   "metadata": {},
   "source": [
    "In this lessons, we took the first steps to setup our EC2 machine.  This is the machine we'll eventually use to host our application.  We started with the first two steps of setting up our software and hardware.  For the software we chose an **Amazon Machine Image** with Linux 2 installed, and for the hardware we selected an Instance Type of t2.micro."
   ]
  },
  {
   "cell_type": "markdown",
   "metadata": {},
   "source": [
    "### Resources"
   ]
  },
  {
   "cell_type": "markdown",
   "metadata": {},
   "source": [
    "[AWS Article](https://medium.com/@alexjsanchez/python-3-notebooks-on-aws-ec2-in-15-mostly-easy-steps-2ec5e662c6c6)"
   ]
  }
 ],
 "metadata": {
  "kernelspec": {
   "display_name": "Python 3 (ipykernel)",
   "language": "python",
   "name": "python3"
  },
  "language_info": {
   "codemirror_mode": {
    "name": "ipython",
    "version": 3
   },
   "file_extension": ".py",
   "mimetype": "text/x-python",
   "name": "python",
   "nbconvert_exporter": "python",
   "pygments_lexer": "ipython3",
   "version": "3.9.12"
  }
 },
 "nbformat": 4,
 "nbformat_minor": 4
}
