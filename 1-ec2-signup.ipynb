{
 "cells": [
  {
   "cell_type": "markdown",
   "metadata": {},
   "source": [
    "# Signing up for an EC2"
   ]
  },
  {
   "cell_type": "markdown",
   "metadata": {},
   "source": [
    "### Introduction "
   ]
  },
  {
   "cell_type": "markdown",
   "metadata": {},
   "source": [
    "Now that we have signed up for the AWS, it's time to use AWS's cloud computing services.  This will allow us to rent one of Amazon's computers that exists somewhere on this planet, and we'll connect to it through our computer.  Let's get started."
   ]
  },
  {
   "cell_type": "markdown",
   "metadata": {},
   "source": [
    "### An EC2 computer"
   ]
  },
  {
   "cell_type": "markdown",
   "metadata": {},
   "source": [
    "Amazon allows us to set up an EC2 machine.  EC2 is simply a computer.  There is not a monitor or a keyboard directly connected to this computer, but we will be able to work with this computer.  And we'll connect to this computer the same way that we connect with computers when we use an API: by sending some commands through the Internet.\n",
    "\n",
    "And just like a normal computer, we'll use our EC2 machine to store data and to run processes -- for example, Python code."
   ]
  },
  {
   "cell_type": "markdown",
   "metadata": {},
   "source": [
    "### Setting it up"
   ]
  },
  {
   "cell_type": "markdown",
   "metadata": {},
   "source": [
    "From the AWS console, look under the section that says **build a solution** and then click on it to **launch a virtual machine**."
   ]
  },
  {
   "cell_type": "markdown",
   "metadata": {},
   "source": [
    "![](./launch-ec2.png)"
   ]
  },
  {
   "cell_type": "markdown",
   "metadata": {},
   "source": [
    "Now it's time to setup our machine.  This may sound complicated, but the first couple of steps are just like shopping for a computer at Best Buy.\n",
    "\n",
    "\n",
    "**1. Choose the Software with AMI**\n",
    "\n",
    "After all, when we go to an electronics store we first decide if we want to purchase computers with either Windows or Mac software to choose our operating system.  Here, we do the same thing, but will be deciding on the **Linux 2** operating system.\n",
    "\n",
    "\n",
    "> In the screen where we choose an image, notice the text AMI everywhere.  This stands for **Amazon Machine Image**.  \n",
    "> * The **Amazon Machine Image** is a template of software Amazon will install the machine."
   ]
  },
  {
   "cell_type": "markdown",
   "metadata": {},
   "source": [
    "![](./machine-type-free.png)"
   ]
  },
  {
   "cell_type": "markdown",
   "metadata": {},
   "source": [
    "We can choose the Linux 2 AMI.  Click the **select** button next to that machine."
   ]
  },
  {
   "cell_type": "markdown",
   "metadata": {},
   "source": [
    "**2. Choose the hardware with Instance Type**"
   ]
  },
  {
   "cell_type": "markdown",
   "metadata": {},
   "source": [
    "We'll be taken to the next screen, which says, choose an Instance Type."
   ]
  },
  {
   "cell_type": "markdown",
   "metadata": {},
   "source": [
    "<img src=\"./instance-type.png\" width=\"100%\">"
   ]
  },
  {
   "cell_type": "markdown",
   "metadata": {},
   "source": [
    "Select the `t2.micro`, which is Free Tier Eligible. Notice right above the table it says *Currently Selected* and then describes the hardware specifications of the CPUs, and memory. "
   ]
  },
  {
   "cell_type": "markdown",
   "metadata": {},
   "source": [
    "**3. Configuration Details**"
   ]
  },
  {
   "cell_type": "markdown",
   "metadata": {},
   "source": [
    "* Move to the next screen by clicking on **Configure Instance Details**.\n",
    "\n",
    "> It turns out, we don't really need to Configure our Instance Details, so move to the next screen by clicking on **Add Storage**."
   ]
  },
  {
   "cell_type": "markdown",
   "metadata": {},
   "source": [
    "Under **Add Storage**, we recieve as much as 30 gigabytes of free storage, so change the **size(GiB)** to 30."
   ]
  },
  {
   "cell_type": "markdown",
   "metadata": {},
   "source": [
    "<img src=\"storage.png\" /> "
   ]
  },
  {
   "cell_type": "markdown",
   "metadata": {},
   "source": [
    "Move to the next screen by clicking on **Add Tags**.  We don't need to add any tags, so we can then go to **Configure Security Group**.\n",
    "\n",
    "This next section is not as straightforward, so let's tackle it in the next lesson."
   ]
  },
  {
   "cell_type": "markdown",
   "metadata": {},
   "source": [
    "### Summary"
   ]
  },
  {
   "cell_type": "markdown",
   "metadata": {},
   "source": [
    "In this lessons, we took the first steps to setup our EC2 machine.  This is the machine we'll eventually use to host our application.  We started with the first two steps of setting up our software and hardware.  For the software we chose an **Amazon Machine Image** with Linux 2 installed, and for the hardware we selected an Instance Type of t2.micro."
   ]
  },
  {
   "cell_type": "markdown",
   "metadata": {},
   "source": [
    "### Resources"
   ]
  },
  {
   "cell_type": "markdown",
   "metadata": {},
   "source": [
    "[AWS Article](https://medium.com/@alexjsanchez/python-3-notebooks-on-aws-ec2-in-15-mostly-easy-steps-2ec5e662c6c6)"
   ]
  }
 ],
 "metadata": {
  "kernelspec": {
   "display_name": "Python 3",
   "language": "python",
   "name": "python3"
  },
  "language_info": {
   "codemirror_mode": {
    "name": "ipython",
    "version": 3
   },
   "file_extension": ".py",
   "mimetype": "text/x-python",
   "name": "python",
   "nbconvert_exporter": "python",
   "pygments_lexer": "ipython3",
   "version": "3.9.1"
  }
 },
 "nbformat": 4,
 "nbformat_minor": 4
}
